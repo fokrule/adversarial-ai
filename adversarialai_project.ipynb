{
  "nbformat": 4,
  "nbformat_minor": 0,
  "metadata": {
    "colab": {
      "provenance": []
    },
    "kernelspec": {
      "name": "python3",
      "display_name": "Python 3"
    },
    "language_info": {
      "name": "python"
    }
  },
  "cells": [
    {
      "cell_type": "code",
      "execution_count": 1,
      "metadata": {
        "id": "EdFhj9mvtdN9"
      },
      "outputs": [],
      "source": [
        "#importing all the necessary library here\n",
        "import pandas as pd"
      ]
    },
    {
      "cell_type": "code",
      "source": [
        "#reading CSV File or Upload\n",
        "tableData = pd.read_csv('VolumeAndNVbySymbol_wRand.csv')\n",
        "#print(tableData.describe)\n",
        "print(tableData.dtypes)"
      ],
      "metadata": {
        "colab": {
          "base_uri": "https://localhost:8080/"
        },
        "collapsed": true,
        "id": "Jog7lK1vtpgq",
        "outputId": "2e565d8a-b48f-404e-e968-d5d18bbd6dc9"
      },
      "execution_count": 6,
      "outputs": [
        {
          "output_type": "stream",
          "name": "stdout",
          "text": [
            "Time            object\n",
            "SYMBOL_NAME     object\n",
            "NV_rand        float64\n",
            "VOLUME_rand    float64\n",
            "dtype: object\n"
          ]
        }
      ]
    },
    {
      "cell_type": "code",
      "source": [
        "#getting the number of rows\n",
        "totalRows = len(tableData)\n",
        "print(totalRows)\n",
        "# it is printing 643214 which is correct"
      ],
      "metadata": {
        "colab": {
          "base_uri": "https://localhost:8080/"
        },
        "id": "qyfYKyKSvF9g",
        "outputId": "88b91858-6910-42a1-a18d-b91a39792052"
      },
      "execution_count": 9,
      "outputs": [
        {
          "output_type": "stream",
          "name": "stdout",
          "text": [
            "643214\n"
          ]
        }
      ]
    },
    {
      "cell_type": "code",
      "source": [
        "#setting pandas to display values in decimal notation\n",
        "pd.set_option('display.float_format','{:.2f}'.format)"
      ],
      "metadata": {
        "id": "dMkmX-I2zfqg"
      },
      "execution_count": 18,
      "outputs": []
    },
    {
      "cell_type": "code",
      "source": [
        "#get the numerical column only\n",
        "numericColumns = tableData.select_dtypes(include=['number']).mean()\n",
        "print(numericColumns)"
      ],
      "metadata": {
        "colab": {
          "base_uri": "https://localhost:8080/"
        },
        "id": "zYEpo64Kx522",
        "outputId": "5f711a36-044c-4ad4-a7fb-2efd06c36e24"
      },
      "execution_count": 26,
      "outputs": [
        {
          "output_type": "stream",
          "name": "stdout",
          "text": [
            "NV_rand       1734836.19\n",
            "VOLUME_rand     32226.43\n",
            "dtype: float64\n"
          ]
        }
      ]
    },
    {
      "cell_type": "code",
      "source": [
        "#section to process time based column\n",
        "tableData['Time'] = pd.to_datetime(tableData['Time'])\n",
        "#print(tableData)\n",
        "#printing min time\n",
        "minTime = tableData.min()\n",
        "print(f\"Minimum Time: {minTime['Time']}\")\n",
        "#printing max time\n",
        "maxTime = tableData.max()\n",
        "print(f\"Maximum Time: {maxTime['Time']}\")"
      ],
      "metadata": {
        "colab": {
          "base_uri": "https://localhost:8080/"
        },
        "id": "kg5iJrD11NqD",
        "outputId": "14837c6f-2cfe-4cc6-d94b-516af328a98f"
      },
      "execution_count": 31,
      "outputs": [
        {
          "output_type": "stream",
          "name": "stdout",
          "text": [
            "Minimum Time: 2021-09-20 09:30:00\n",
            "Maximum Time: 2021-09-21 16:00:00\n"
          ]
        }
      ]
    }
  ]
}