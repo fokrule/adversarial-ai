{
  "nbformat": 4,
  "nbformat_minor": 0,
  "metadata": {
    "colab": {
      "provenance": []
    },
    "kernelspec": {
      "name": "python3",
      "display_name": "Python 3"
    },
    "language_info": {
      "name": "python"
    }
  },
  "cells": [
    {
      "cell_type": "code",
      "execution_count": 1,
      "metadata": {
        "id": "EdFhj9mvtdN9"
      },
      "outputs": [],
      "source": [
        "#import all the necessary library\n",
        "import pandas as pd"
      ]
    },
    {
      "cell_type": "code",
      "source": [
        "#reading CSV File or Upload\n",
        "tableData = pd.read_csv('VolumeAndNVbySymbol_wRand.csv')\n",
        "#print(tableData.describe)\n",
        "print(f\"All the data types: {tableData.dtypes}\")"
      ],
      "metadata": {
        "colab": {
          "base_uri": "https://localhost:8080/"
        },
        "collapsed": true,
        "id": "Jog7lK1vtpgq",
        "outputId": "6f0f01b7-ad60-463a-a33a-d0601744ad07"
      },
      "execution_count": 34,
      "outputs": [
        {
          "output_type": "stream",
          "name": "stdout",
          "text": [
            "All the data types: Time            object\n",
            "SYMBOL_NAME     object\n",
            "NV_rand        float64\n",
            "VOLUME_rand    float64\n",
            "dtype: object\n"
          ]
        }
      ]
    },
    {
      "cell_type": "code",
      "source": [
        "#getting and printing the number of rows\n",
        "totalRows = len(tableData)\n",
        "print(f\"Total number of rows: {totalRows}\")\n",
        "# it is printing 643214 which is correct"
      ],
      "metadata": {
        "colab": {
          "base_uri": "https://localhost:8080/"
        },
        "id": "qyfYKyKSvF9g",
        "outputId": "c748ff86-9663-4cf3-a56c-56d5d78f3b19"
      },
      "execution_count": 35,
      "outputs": [
        {
          "output_type": "stream",
          "name": "stdout",
          "text": [
            "Total number of rows: 643214\n"
          ]
        }
      ]
    },
    {
      "cell_type": "code",
      "source": [
        "#setting pandas to display values in decimal notation\n",
        "pd.set_option('display.float_format','{:.2f}'.format)"
      ],
      "metadata": {
        "id": "dMkmX-I2zfqg"
      },
      "execution_count": 36,
      "outputs": []
    },
    {
      "cell_type": "code",
      "source": [
        "#processing numerical column\n",
        "#printing The average value of each numerical column\n",
        "numericColumns = tableData.select_dtypes(include=['number']).mean()\n",
        "for column, value in numericColumns.items():\n",
        "    print(f\"Average of {column} is {value: .2f}\")"
      ],
      "metadata": {
        "colab": {
          "base_uri": "https://localhost:8080/"
        },
        "id": "zYEpo64Kx522",
        "outputId": "5cfd67ff-e813-4386-83c6-a84d74c9515c"
      },
      "execution_count": 40,
      "outputs": [
        {
          "output_type": "stream",
          "name": "stdout",
          "text": [
            "Average of NV_rand is  1734836.19\n",
            "Average of VOLUME_rand is  32226.43\n"
          ]
        }
      ]
    },
    {
      "cell_type": "code",
      "source": [
        "#section to process time based column\n",
        "tableData['Time'] = pd.to_datetime(tableData['Time'])\n",
        "#print(tableData)\n",
        "#printing min time\n",
        "minTime = tableData.min()\n",
        "print(f\"Minimum Time: {minTime['Time']}\")\n",
        "#printing max time\n",
        "maxTime = tableData.max()\n",
        "print(f\"Maximum Time: {maxTime['Time']}\")"
      ],
      "metadata": {
        "colab": {
          "base_uri": "https://localhost:8080/"
        },
        "id": "kg5iJrD11NqD",
        "outputId": "14837c6f-2cfe-4cc6-d94b-516af328a98f"
      },
      "execution_count": 31,
      "outputs": [
        {
          "output_type": "stream",
          "name": "stdout",
          "text": [
            "Minimum Time: 2021-09-20 09:30:00\n",
            "Maximum Time: 2021-09-21 16:00:00\n"
          ]
        }
      ]
    }
  ]
}